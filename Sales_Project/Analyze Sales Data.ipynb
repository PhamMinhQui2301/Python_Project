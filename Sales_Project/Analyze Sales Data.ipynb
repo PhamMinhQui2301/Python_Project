{
 "cells": [
  {
   "cell_type": "markdown",
   "metadata": {},
   "source": [
    "# Project: Analyze Sales Data"
   ]
  },
  {
   "cell_type": "code",
   "execution_count": 158,
   "metadata": {},
   "outputs": [],
   "source": [
    "import pandas as pd\n",
    "import numpy as np\n",
    "import seaborn as sns \n",
    "import plotly.express as px\n",
    "import matplotlib.pyplot as plt\n",
    "\n",
    "from sklearn.model_selection import train_test_split\n",
    "from sklearn.linear_model import LinearRegression\n",
    "from sklearn.metrics import mean_absolute_error, mean_squared_error, r2_score\n"
   ]
  },
  {
   "cell_type": "markdown",
   "metadata": {},
   "source": [
    "# Task 1.1: Read dataset"
   ]
  },
  {
   "cell_type": "code",
   "execution_count": 159,
   "metadata": {},
   "outputs": [],
   "source": [
    "df_product = pd.read_csv('C:\\Project_DataAnalyst\\Project_portfolio\\Portfolio of Data Sales Project\\data sales\\Products.csv')\n",
    "df_customers = pd.read_csv('C:\\Project_DataAnalyst\\Project_portfolio\\Portfolio of Data Sales Project\\data sales\\Customers.csv', encoding = 'latin1')\n",
    "\n",
    "df_2015 = pd.read_csv('C:\\Project_DataAnalyst\\Project_portfolio\\Portfolio of Data Sales Project\\data sales\\Sales_2015.csv')\n",
    "df_2016 = pd.read_csv('C:\\Project_DataAnalyst\\Project_portfolio\\Portfolio of Data Sales Project\\data sales\\Sales_2016.csv')\n",
    "df_2017 = pd.read_csv('C:\\Project_DataAnalyst\\Project_portfolio\\Portfolio of Data Sales Project\\data sales\\Sales_2017.csv')\n",
    "\n",
    "data_sales = pd.concat([df_2015, df_2016, df_2017 ], axis = 0, ignore_index = True)\n"
   ]
  },
  {
   "cell_type": "code",
   "execution_count": 160,
   "metadata": {},
   "outputs": [],
   "source": [
    "data_sales.head()\n",
    "data_sales.to_csv('data_sales.csv', index=True) "
   ]
  },
  {
   "cell_type": "code",
   "execution_count": 161,
   "metadata": {},
   "outputs": [
    {
     "data": {
      "text/plain": [
       "18148"
      ]
     },
     "execution_count": 161,
     "metadata": {},
     "output_type": "execute_result"
    }
   ],
   "source": [
    "df_customers['CustomerKey'].nunique()"
   ]
  },
  {
   "cell_type": "markdown",
   "metadata": {},
   "source": [
    "# Task 2: Process data for analysis"
   ]
  },
  {
   "cell_type": "markdown",
   "metadata": {},
   "source": [
    "# Task 2.1: Create a column named SKU_type1 containing the characters before the first \"-\"."
   ]
  },
  {
   "cell_type": "code",
   "execution_count": 162,
   "metadata": {},
   "outputs": [
    {
     "data": {
      "text/plain": [
       "0    HL\n",
       "1    HL\n",
       "2    SO\n",
       "3    SO\n",
       "4    HL\n",
       "Name: SKU_type1, dtype: object"
      ]
     },
     "execution_count": 162,
     "metadata": {},
     "output_type": "execute_result"
    }
   ],
   "source": [
    "df_product['SKU_type1'] = df_product['SKU'].str.split('-').str[0]\n",
    "df_product['SKU_type1'].head()"
   ]
  },
  {
   "cell_type": "markdown",
   "metadata": {},
   "source": [
    "# Task 2.2: Create a column named SKU_type2\n",
    "- For SKU rows with only 1 \"-\" character, SKU_type2 receives the string \"NA\", for SKU rows with more than one \"-\" then SKU_type2 receives the characters after the last \"-\"."
   ]
  },
  {
   "cell_type": "code",
   "execution_count": 163,
   "metadata": {},
   "outputs": [
    {
     "data": {
      "text/plain": [
       "0     R\n",
       "1    NA\n",
       "2     M\n",
       "3     L\n",
       "4     B\n",
       "Name: SKU_type2, dtype: object"
      ]
     },
     "execution_count": 163,
     "metadata": {},
     "output_type": "execute_result"
    }
   ],
   "source": [
    "def excute_string(x):\n",
    "    if x.count('-') < 2:\n",
    "        return 'NA'\n",
    "    else:\n",
    "        return x.split('-')[-1]\n",
    "df_product['SKU_type2'] = df_product['SKU'].apply(excute_string)\n",
    "df_product['SKU_type2'] .head()"
   ]
  },
  {
   "cell_type": "code",
   "execution_count": 164,
   "metadata": {},
   "outputs": [
    {
     "data": {
      "text/plain": [
       "18148"
      ]
     },
     "execution_count": 164,
     "metadata": {},
     "output_type": "execute_result"
    }
   ],
   "source": [
    "df_customers['CustomerKey'].nunique()"
   ]
  },
  {
   "cell_type": "markdown",
   "metadata": {},
   "source": [
    "# Task 2.3: Remove the \"$\" and \",\" signs in the 'Annual Income' column then convert to \"float\" format."
   ]
  },
  {
   "cell_type": "code",
   "execution_count": 165,
   "metadata": {},
   "outputs": [
    {
     "data": {
      "text/html": [
       "<div>\n",
       "<style scoped>\n",
       "    .dataframe tbody tr th:only-of-type {\n",
       "        vertical-align: middle;\n",
       "    }\n",
       "\n",
       "    .dataframe tbody tr th {\n",
       "        vertical-align: top;\n",
       "    }\n",
       "\n",
       "    .dataframe thead th {\n",
       "        text-align: right;\n",
       "    }\n",
       "</style>\n",
       "<table border=\"1\" class=\"dataframe\">\n",
       "  <thead>\n",
       "    <tr style=\"text-align: right;\">\n",
       "      <th></th>\n",
       "      <th>CustomerKey</th>\n",
       "      <th>Prefix</th>\n",
       "      <th>FirstName</th>\n",
       "      <th>LastName</th>\n",
       "      <th>BirthDate</th>\n",
       "      <th>MaritalStatus</th>\n",
       "      <th>Gender</th>\n",
       "      <th>EmailAddress</th>\n",
       "      <th>AnnualIncome</th>\n",
       "      <th>TotalChildren</th>\n",
       "      <th>EducationLevel</th>\n",
       "      <th>Occupation</th>\n",
       "      <th>HomeOwner</th>\n",
       "    </tr>\n",
       "  </thead>\n",
       "  <tbody>\n",
       "    <tr>\n",
       "      <th>0</th>\n",
       "      <td>11000</td>\n",
       "      <td>MR.</td>\n",
       "      <td>JON</td>\n",
       "      <td>YANG</td>\n",
       "      <td>4/8/1966</td>\n",
       "      <td>M</td>\n",
       "      <td>M</td>\n",
       "      <td>jon24@adventure-works.com</td>\n",
       "      <td>90000.00</td>\n",
       "      <td>2</td>\n",
       "      <td>Bachelors</td>\n",
       "      <td>Professional</td>\n",
       "      <td>Y</td>\n",
       "    </tr>\n",
       "    <tr>\n",
       "      <th>1</th>\n",
       "      <td>11001</td>\n",
       "      <td>MR.</td>\n",
       "      <td>EUGENE</td>\n",
       "      <td>HUANG</td>\n",
       "      <td>5/14/1965</td>\n",
       "      <td>S</td>\n",
       "      <td>M</td>\n",
       "      <td>eugene10@adventure-works.com</td>\n",
       "      <td>60000.00</td>\n",
       "      <td>3</td>\n",
       "      <td>Bachelors</td>\n",
       "      <td>Professional</td>\n",
       "      <td>N</td>\n",
       "    </tr>\n",
       "    <tr>\n",
       "      <th>2</th>\n",
       "      <td>11002</td>\n",
       "      <td>MR.</td>\n",
       "      <td>RUBEN</td>\n",
       "      <td>TORRES</td>\n",
       "      <td>8/12/1965</td>\n",
       "      <td>M</td>\n",
       "      <td>M</td>\n",
       "      <td>ruben35@adventure-works.com</td>\n",
       "      <td>60000.00</td>\n",
       "      <td>3</td>\n",
       "      <td>Bachelors</td>\n",
       "      <td>Professional</td>\n",
       "      <td>Y</td>\n",
       "    </tr>\n",
       "    <tr>\n",
       "      <th>3</th>\n",
       "      <td>11003</td>\n",
       "      <td>MS.</td>\n",
       "      <td>CHRISTY</td>\n",
       "      <td>ZHU</td>\n",
       "      <td>2/15/1968</td>\n",
       "      <td>S</td>\n",
       "      <td>F</td>\n",
       "      <td>christy12@adventure-works.com</td>\n",
       "      <td>70000.00</td>\n",
       "      <td>0</td>\n",
       "      <td>Bachelors</td>\n",
       "      <td>Professional</td>\n",
       "      <td>N</td>\n",
       "    </tr>\n",
       "    <tr>\n",
       "      <th>4</th>\n",
       "      <td>11004</td>\n",
       "      <td>MRS.</td>\n",
       "      <td>ELIZABETH</td>\n",
       "      <td>JOHNSON</td>\n",
       "      <td>8/8/1968</td>\n",
       "      <td>S</td>\n",
       "      <td>F</td>\n",
       "      <td>elizabeth5@adventure-works.com</td>\n",
       "      <td>80000.00</td>\n",
       "      <td>5</td>\n",
       "      <td>Bachelors</td>\n",
       "      <td>Professional</td>\n",
       "      <td>Y</td>\n",
       "    </tr>\n",
       "  </tbody>\n",
       "</table>\n",
       "</div>"
      ],
      "text/plain": [
       "   CustomerKey Prefix  FirstName LastName  BirthDate MaritalStatus Gender  \\\n",
       "0        11000    MR.        JON     YANG   4/8/1966             M      M   \n",
       "1        11001    MR.     EUGENE    HUANG  5/14/1965             S      M   \n",
       "2        11002    MR.      RUBEN   TORRES  8/12/1965             M      M   \n",
       "3        11003    MS.    CHRISTY      ZHU  2/15/1968             S      F   \n",
       "4        11004   MRS.  ELIZABETH  JOHNSON   8/8/1968             S      F   \n",
       "\n",
       "                     EmailAddress  AnnualIncome  TotalChildren EducationLevel  \\\n",
       "0       jon24@adventure-works.com      90000.00              2      Bachelors   \n",
       "1    eugene10@adventure-works.com      60000.00              3      Bachelors   \n",
       "2     ruben35@adventure-works.com      60000.00              3      Bachelors   \n",
       "3   christy12@adventure-works.com      70000.00              0      Bachelors   \n",
       "4  elizabeth5@adventure-works.com      80000.00              5      Bachelors   \n",
       "\n",
       "     Occupation HomeOwner  \n",
       "0  Professional         Y  \n",
       "1  Professional         N  \n",
       "2  Professional         Y  \n",
       "3  Professional         N  \n",
       "4  Professional         Y  "
      ]
     },
     "execution_count": 165,
     "metadata": {},
     "output_type": "execute_result"
    }
   ],
   "source": [
    "df_customers[\"AnnualIncome\"] = df_customers[\"AnnualIncome\"].astype(str)\n",
    "\n",
    "df_customers[\"AnnualIncome\"] = df_customers[\"AnnualIncome\"].str.replace('[$,]', '', regex=True).astype(float)\n",
    "\n",
    "df_customers.head()\n"
   ]
  },
  {
   "cell_type": "markdown",
   "metadata": {},
   "source": [
    "# Task 3: Reporting\n"
   ]
  },
  {
   "cell_type": "markdown",
   "metadata": {},
   "source": [
    "# Task 3.1: How many product keys (ProductKeys) are not duplicated?"
   ]
  },
  {
   "cell_type": "code",
   "execution_count": 166,
   "metadata": {},
   "outputs": [
    {
     "data": {
      "text/plain": [
       "293"
      ]
     },
     "execution_count": 166,
     "metadata": {},
     "output_type": "execute_result"
    }
   ],
   "source": [
    "len(df_product[\"ProductKey\"].unique())"
   ]
  },
  {
   "cell_type": "markdown",
   "metadata": {},
   "source": [
    "# Task 3.2: Calculate the GPM (gross profit margin) of each product code\n",
    "\n",
    "- Gross profit margin (%) = Gross profit / Total revenue\n",
    "-  Gross profit = Net revenue – Cost of goods sold"
   ]
  },
  {
   "cell_type": "code",
   "execution_count": 167,
   "metadata": {},
   "outputs": [
    {
     "data": {
      "text/html": [
       "<div>\n",
       "<style scoped>\n",
       "    .dataframe tbody tr th:only-of-type {\n",
       "        vertical-align: middle;\n",
       "    }\n",
       "\n",
       "    .dataframe tbody tr th {\n",
       "        vertical-align: top;\n",
       "    }\n",
       "\n",
       "    .dataframe thead th {\n",
       "        text-align: right;\n",
       "    }\n",
       "</style>\n",
       "<table border=\"1\" class=\"dataframe\">\n",
       "  <thead>\n",
       "    <tr style=\"text-align: right;\">\n",
       "      <th></th>\n",
       "      <th>ProductKey</th>\n",
       "      <th>Cost</th>\n",
       "      <th>Price</th>\n",
       "      <th>GPM %</th>\n",
       "    </tr>\n",
       "  </thead>\n",
       "  <tbody>\n",
       "    <tr>\n",
       "      <th>0</th>\n",
       "      <td>214</td>\n",
       "      <td>13.09</td>\n",
       "      <td>34.99</td>\n",
       "      <td>62.60</td>\n",
       "    </tr>\n",
       "    <tr>\n",
       "      <th>1</th>\n",
       "      <td>215</td>\n",
       "      <td>12.03</td>\n",
       "      <td>33.64</td>\n",
       "      <td>64.25</td>\n",
       "    </tr>\n",
       "    <tr>\n",
       "      <th>2</th>\n",
       "      <td>218</td>\n",
       "      <td>3.40</td>\n",
       "      <td>9.50</td>\n",
       "      <td>64.25</td>\n",
       "    </tr>\n",
       "    <tr>\n",
       "      <th>3</th>\n",
       "      <td>219</td>\n",
       "      <td>3.40</td>\n",
       "      <td>9.50</td>\n",
       "      <td>64.25</td>\n",
       "    </tr>\n",
       "    <tr>\n",
       "      <th>4</th>\n",
       "      <td>220</td>\n",
       "      <td>12.03</td>\n",
       "      <td>33.64</td>\n",
       "      <td>64.25</td>\n",
       "    </tr>\n",
       "  </tbody>\n",
       "</table>\n",
       "</div>"
      ],
      "text/plain": [
       "   ProductKey  Cost  Price  GPM %\n",
       "0         214 13.09  34.99  62.60\n",
       "1         215 12.03  33.64  64.25\n",
       "2         218  3.40   9.50  64.25\n",
       "3         219  3.40   9.50  64.25\n",
       "4         220 12.03  33.64  64.25"
      ]
     },
     "execution_count": 167,
     "metadata": {},
     "output_type": "execute_result"
    }
   ],
   "source": [
    "df_product['GPM %'] = round( (df_product[\"Price\"] - df_product[\"Cost\"]) / df_product[\"Price\"] * 100 , 2 )\n",
    "\n",
    "df_product[[\"ProductKey\",\"Cost\",\"Price\",\"GPM %\"]].head()"
   ]
  },
  {
   "cell_type": "markdown",
   "metadata": {},
   "source": [
    "# Task 3.2: Calculate the Markup ratio (percentage of profit over cost) of each product code"
   ]
  },
  {
   "cell_type": "code",
   "execution_count": 168,
   "metadata": {},
   "outputs": [
    {
     "data": {
      "text/html": [
       "<div>\n",
       "<style scoped>\n",
       "    .dataframe tbody tr th:only-of-type {\n",
       "        vertical-align: middle;\n",
       "    }\n",
       "\n",
       "    .dataframe tbody tr th {\n",
       "        vertical-align: top;\n",
       "    }\n",
       "\n",
       "    .dataframe thead th {\n",
       "        text-align: right;\n",
       "    }\n",
       "</style>\n",
       "<table border=\"1\" class=\"dataframe\">\n",
       "  <thead>\n",
       "    <tr style=\"text-align: right;\">\n",
       "      <th></th>\n",
       "      <th>ProductKey</th>\n",
       "      <th>Cost</th>\n",
       "      <th>Price</th>\n",
       "      <th>GPM %</th>\n",
       "      <th>ratio_markup %</th>\n",
       "    </tr>\n",
       "  </thead>\n",
       "  <tbody>\n",
       "    <tr>\n",
       "      <th>0</th>\n",
       "      <td>214</td>\n",
       "      <td>13.09</td>\n",
       "      <td>34.99</td>\n",
       "      <td>62.60</td>\n",
       "      <td>167.38</td>\n",
       "    </tr>\n",
       "    <tr>\n",
       "      <th>1</th>\n",
       "      <td>215</td>\n",
       "      <td>12.03</td>\n",
       "      <td>33.64</td>\n",
       "      <td>64.25</td>\n",
       "      <td>179.72</td>\n",
       "    </tr>\n",
       "    <tr>\n",
       "      <th>2</th>\n",
       "      <td>218</td>\n",
       "      <td>3.40</td>\n",
       "      <td>9.50</td>\n",
       "      <td>64.25</td>\n",
       "      <td>179.72</td>\n",
       "    </tr>\n",
       "    <tr>\n",
       "      <th>3</th>\n",
       "      <td>219</td>\n",
       "      <td>3.40</td>\n",
       "      <td>9.50</td>\n",
       "      <td>64.25</td>\n",
       "      <td>179.72</td>\n",
       "    </tr>\n",
       "    <tr>\n",
       "      <th>4</th>\n",
       "      <td>220</td>\n",
       "      <td>12.03</td>\n",
       "      <td>33.64</td>\n",
       "      <td>64.25</td>\n",
       "      <td>179.72</td>\n",
       "    </tr>\n",
       "  </tbody>\n",
       "</table>\n",
       "</div>"
      ],
      "text/plain": [
       "   ProductKey  Cost  Price  GPM %  ratio_markup %\n",
       "0         214 13.09  34.99  62.60          167.38\n",
       "1         215 12.03  33.64  64.25          179.72\n",
       "2         218  3.40   9.50  64.25          179.72\n",
       "3         219  3.40   9.50  64.25          179.72\n",
       "4         220 12.03  33.64  64.25          179.72"
      ]
     },
     "execution_count": 168,
     "metadata": {},
     "output_type": "execute_result"
    }
   ],
   "source": [
    "df_product['ratio_markup %'] = round( (df_product[\"Price\"] - df_product[\"Cost\"]) / df_product[\"Cost\"] * 100 , 2 )\n",
    "df_product[[\"ProductKey\",\"Cost\",\"Price\",\"GPM %\", 'ratio_markup %']].head()\n"
   ]
  },
  {
   "cell_type": "markdown",
   "metadata": {},
   "source": [
    "# Task 3.4: Add column 'Discount Price' for 15% discount price\n"
   ]
  },
  {
   "cell_type": "code",
   "execution_count": 169,
   "metadata": {},
   "outputs": [
    {
     "data": {
      "text/html": [
       "<div>\n",
       "<style scoped>\n",
       "    .dataframe tbody tr th:only-of-type {\n",
       "        vertical-align: middle;\n",
       "    }\n",
       "\n",
       "    .dataframe tbody tr th {\n",
       "        vertical-align: top;\n",
       "    }\n",
       "\n",
       "    .dataframe thead th {\n",
       "        text-align: right;\n",
       "    }\n",
       "</style>\n",
       "<table border=\"1\" class=\"dataframe\">\n",
       "  <thead>\n",
       "    <tr style=\"text-align: right;\">\n",
       "      <th></th>\n",
       "      <th>ProductKey</th>\n",
       "      <th>ProductName</th>\n",
       "      <th>Price</th>\n",
       "      <th>Discount</th>\n",
       "    </tr>\n",
       "  </thead>\n",
       "  <tbody>\n",
       "    <tr>\n",
       "      <th>0</th>\n",
       "      <td>214</td>\n",
       "      <td>Sport-100 Helmet, Red</td>\n",
       "      <td>34.99</td>\n",
       "      <td>29.74</td>\n",
       "    </tr>\n",
       "    <tr>\n",
       "      <th>1</th>\n",
       "      <td>215</td>\n",
       "      <td>Sport-100 Helmet, Black</td>\n",
       "      <td>33.64</td>\n",
       "      <td>28.60</td>\n",
       "    </tr>\n",
       "    <tr>\n",
       "      <th>2</th>\n",
       "      <td>218</td>\n",
       "      <td>Mountain Bike Socks, M</td>\n",
       "      <td>9.50</td>\n",
       "      <td>8.07</td>\n",
       "    </tr>\n",
       "    <tr>\n",
       "      <th>3</th>\n",
       "      <td>219</td>\n",
       "      <td>Mountain Bike Socks, L</td>\n",
       "      <td>9.50</td>\n",
       "      <td>8.07</td>\n",
       "    </tr>\n",
       "    <tr>\n",
       "      <th>4</th>\n",
       "      <td>220</td>\n",
       "      <td>Sport-100 Helmet, Blue</td>\n",
       "      <td>33.64</td>\n",
       "      <td>28.60</td>\n",
       "    </tr>\n",
       "  </tbody>\n",
       "</table>\n",
       "</div>"
      ],
      "text/plain": [
       "   ProductKey              ProductName  Price  Discount\n",
       "0         214    Sport-100 Helmet, Red  34.99     29.74\n",
       "1         215  Sport-100 Helmet, Black  33.64     28.60\n",
       "2         218   Mountain Bike Socks, M   9.50      8.07\n",
       "3         219   Mountain Bike Socks, L   9.50      8.07\n",
       "4         220   Sport-100 Helmet, Blue  33.64     28.60"
      ]
     },
     "execution_count": 169,
     "metadata": {},
     "output_type": "execute_result"
    }
   ],
   "source": [
    "df_product['Discount'] = round( df_product['Price'] * 0.85 , 2)\n",
    "\n",
    "df_product[[\"ProductKey\",\"ProductName\",\"Price\",\"Discount\"]].head()"
   ]
  },
  {
   "cell_type": "markdown",
   "metadata": {},
   "source": [
    "# Task 3.5: Classify customers based on annual income\n",
    "- From $150,000 or more, level \"Very High\"\n",
    "- From $100,000 or more, level \"High\"\n",
    "- From $50,000 or more, level \"Average\"\n",
    "- Remaining, level “Low”"
   ]
  },
  {
   "cell_type": "markdown",
   "metadata": {},
   "source": [
    "Combine 3 columns “Prefix”, “FirstName”, “LastName” into column “full_name”\n"
   ]
  },
  {
   "cell_type": "code",
   "execution_count": 170,
   "metadata": {},
   "outputs": [],
   "source": [
    "df_customers['Full_name'] = (\n",
    "df_customers[['Prefix','FirstName','LastName']].astype('str').apply(' '.join, axis = 1))"
   ]
  },
  {
   "cell_type": "code",
   "execution_count": 171,
   "metadata": {},
   "outputs": [
    {
     "data": {
      "text/html": [
       "<div>\n",
       "<style scoped>\n",
       "    .dataframe tbody tr th:only-of-type {\n",
       "        vertical-align: middle;\n",
       "    }\n",
       "\n",
       "    .dataframe tbody tr th {\n",
       "        vertical-align: top;\n",
       "    }\n",
       "\n",
       "    .dataframe thead th {\n",
       "        text-align: right;\n",
       "    }\n",
       "</style>\n",
       "<table border=\"1\" class=\"dataframe\">\n",
       "  <thead>\n",
       "    <tr style=\"text-align: right;\">\n",
       "      <th></th>\n",
       "      <th>CustomerKey</th>\n",
       "      <th>Full_name</th>\n",
       "      <th>BirthDate</th>\n",
       "      <th>AnnualIncome</th>\n",
       "      <th>IncomeLevel</th>\n",
       "    </tr>\n",
       "  </thead>\n",
       "  <tbody>\n",
       "    <tr>\n",
       "      <th>0</th>\n",
       "      <td>11000</td>\n",
       "      <td>MR. JON YANG</td>\n",
       "      <td>4/8/1966</td>\n",
       "      <td>90000.00</td>\n",
       "      <td>Average</td>\n",
       "    </tr>\n",
       "    <tr>\n",
       "      <th>1</th>\n",
       "      <td>11001</td>\n",
       "      <td>MR. EUGENE HUANG</td>\n",
       "      <td>5/14/1965</td>\n",
       "      <td>60000.00</td>\n",
       "      <td>Average</td>\n",
       "    </tr>\n",
       "    <tr>\n",
       "      <th>2</th>\n",
       "      <td>11002</td>\n",
       "      <td>MR. RUBEN TORRES</td>\n",
       "      <td>8/12/1965</td>\n",
       "      <td>60000.00</td>\n",
       "      <td>Average</td>\n",
       "    </tr>\n",
       "    <tr>\n",
       "      <th>3</th>\n",
       "      <td>11003</td>\n",
       "      <td>MS. CHRISTY ZHU</td>\n",
       "      <td>2/15/1968</td>\n",
       "      <td>70000.00</td>\n",
       "      <td>Average</td>\n",
       "    </tr>\n",
       "    <tr>\n",
       "      <th>4</th>\n",
       "      <td>11004</td>\n",
       "      <td>MRS. ELIZABETH JOHNSON</td>\n",
       "      <td>8/8/1968</td>\n",
       "      <td>80000.00</td>\n",
       "      <td>Average</td>\n",
       "    </tr>\n",
       "  </tbody>\n",
       "</table>\n",
       "</div>"
      ],
      "text/plain": [
       "   CustomerKey               Full_name  BirthDate  AnnualIncome IncomeLevel\n",
       "0        11000            MR. JON YANG   4/8/1966      90000.00     Average\n",
       "1        11001        MR. EUGENE HUANG  5/14/1965      60000.00     Average\n",
       "2        11002        MR. RUBEN TORRES  8/12/1965      60000.00     Average\n",
       "3        11003         MS. CHRISTY ZHU  2/15/1968      70000.00     Average\n",
       "4        11004  MRS. ELIZABETH JOHNSON   8/8/1968      80000.00     Average"
      ]
     },
     "execution_count": 171,
     "metadata": {},
     "output_type": "execute_result"
    }
   ],
   "source": [
    "def classify_income(x):\n",
    "    if x >= 150000:\n",
    "        return \"Very High\"\n",
    "    elif x >= 100000:\n",
    "        return \"High\"\n",
    "    elif x >= 50000:\n",
    "        return \"Average\"\n",
    "    else:\n",
    "        return \"Low\"     \n",
    "\n",
    "df_customers['IncomeLevel'] = df_customers['AnnualIncome'].apply(classify_income)\n",
    "df_customers[[\"CustomerKey\",\"Full_name\",\"BirthDate\",\"AnnualIncome\",\"IncomeLevel\"]].head()\n"
   ]
  },
  {
   "cell_type": "markdown",
   "metadata": {},
   "source": [
    "# Visualize Classify customers"
   ]
  },
  {
   "cell_type": "code",
   "execution_count": 172,
   "metadata": {},
   "outputs": [
    {
     "data": {
      "image/png": "[encoded data removed]",
      "text/plain": [
       "<Figure size 640x480 with 1 Axes>"
      ]
     },
     "metadata": {},
     "output_type": "display_data"
    }
   ],
   "source": [
    "income_counts = df_customers['IncomeLevel'].value_counts()\n",
    "\n",
    "income_counts = income_counts.reindex([\"Very High\", \"High\", \"Average\", \"Low\"])\n",
    "\n",
    "plt.bar(income_counts.index, income_counts.values)\n",
    "\n",
    "plt.title(\"Distribution of customer income\")\n",
    "plt.xlabel(\"Income level\")\n",
    "plt.ylabel(\"Customers number\")\n",
    "\n",
    "plt.show()\n"
   ]
  },
  {
   "cell_type": "markdown",
   "metadata": {},
   "source": [
    "# See customer Education level Distribution"
   ]
  },
  {
   "cell_type": "code",
   "execution_count": 173,
   "metadata": {},
   "outputs": [
    {
     "data": {
      "image/png": "[encoded data removed]",
      "text/plain": [
       "<Figure size 800x800 with 1 Axes>"
      ]
     },
     "metadata": {},
     "output_type": "display_data"
    }
   ],
   "source": [
    "education_counts = df_customers['EducationLevel'].value_counts()\n",
    "total_customers = len(df_customers)\n",
    "education_percentages = (education_counts / total_customers) * 100\n",
    "\n",
    "plt.figure(figsize=(8, 8))\n",
    "plt.pie(education_percentages, labels=education_percentages.index, autopct='%1.1f%%', startangle=140)\n",
    "plt.axis('equal')  \n",
    "plt.title('Customer Education Distribution')\n",
    "plt.show()\n"
   ]
  },
  {
   "cell_type": "markdown",
   "metadata": {},
   "source": [
    "# See customer occupation distribution"
   ]
  },
  {
   "cell_type": "code",
   "execution_count": 174,
   "metadata": {},
   "outputs": [
    {
     "data": {
      "image/png": "[encoded data removed]",
      "text/plain": [
       "<Figure size 800x800 with 1 Axes>"
      ]
     },
     "metadata": {},
     "output_type": "display_data"
    }
   ],
   "source": [
    "education_counts = df_customers['Occupation'].value_counts()\n",
    "total_customers = len(df_customers)\n",
    "education_percentages = (education_counts / total_customers) * 100\n",
    "\n",
    "plt.figure(figsize=(8, 8))\n",
    "plt.pie(education_percentages, labels=education_percentages.index, autopct='%1.1f%%', startangle=140)\n",
    "plt.axis('equal')  \n",
    "plt.title('Customer Occupation Distribution')\n",
    "plt.show()"
   ]
  },
  {
   "cell_type": "markdown",
   "metadata": {},
   "source": [
    "# Task 3.6: Total number of orders in 3 years"
   ]
  },
  {
   "cell_type": "code",
   "execution_count": 175,
   "metadata": {},
   "outputs": [
    {
     "data": {
      "text/html": [
       "<div>\n",
       "<style scoped>\n",
       "    .dataframe tbody tr th:only-of-type {\n",
       "        vertical-align: middle;\n",
       "    }\n",
       "\n",
       "    .dataframe tbody tr th {\n",
       "        vertical-align: top;\n",
       "    }\n",
       "\n",
       "    .dataframe thead th {\n",
       "        text-align: right;\n",
       "    }\n",
       "</style>\n",
       "<table border=\"1\" class=\"dataframe\">\n",
       "  <thead>\n",
       "    <tr style=\"text-align: right;\">\n",
       "      <th></th>\n",
       "      <th>OrderDate</th>\n",
       "      <th>StockDate</th>\n",
       "      <th>OrderNumber</th>\n",
       "      <th>ProductKey</th>\n",
       "      <th>CustomerKey</th>\n",
       "      <th>TerritoryKey</th>\n",
       "      <th>OrderLineItem</th>\n",
       "      <th>OrderQuantity</th>\n",
       "    </tr>\n",
       "  </thead>\n",
       "  <tbody>\n",
       "    <tr>\n",
       "      <th>32812</th>\n",
       "      <td>2/12/2017</td>\n",
       "      <td>11/7/2003</td>\n",
       "      <td>SO64042</td>\n",
       "      <td>477</td>\n",
       "      <td>11032</td>\n",
       "      <td>9</td>\n",
       "      <td>6</td>\n",
       "      <td>2</td>\n",
       "    </tr>\n",
       "    <tr>\n",
       "      <th>32813</th>\n",
       "      <td>2/12/2017</td>\n",
       "      <td>10/16/2003</td>\n",
       "      <td>SO64042</td>\n",
       "      <td>478</td>\n",
       "      <td>11032</td>\n",
       "      <td>9</td>\n",
       "      <td>5</td>\n",
       "      <td>2</td>\n",
       "    </tr>\n",
       "    <tr>\n",
       "      <th>32814</th>\n",
       "      <td>2/12/2017</td>\n",
       "      <td>12/14/2003</td>\n",
       "      <td>SO64042</td>\n",
       "      <td>480</td>\n",
       "      <td>11032</td>\n",
       "      <td>9</td>\n",
       "      <td>7</td>\n",
       "      <td>2</td>\n",
       "    </tr>\n",
       "    <tr>\n",
       "      <th>32815</th>\n",
       "      <td>2/12/2017</td>\n",
       "      <td>11/9/2003</td>\n",
       "      <td>SO64042</td>\n",
       "      <td>485</td>\n",
       "      <td>11032</td>\n",
       "      <td>9</td>\n",
       "      <td>4</td>\n",
       "      <td>2</td>\n",
       "    </tr>\n",
       "    <tr>\n",
       "      <th>32816</th>\n",
       "      <td>2/12/2017</td>\n",
       "      <td>1/17/2004</td>\n",
       "      <td>SO64042</td>\n",
       "      <td>528</td>\n",
       "      <td>11032</td>\n",
       "      <td>9</td>\n",
       "      <td>3</td>\n",
       "      <td>2</td>\n",
       "    </tr>\n",
       "    <tr>\n",
       "      <th>32817</th>\n",
       "      <td>2/12/2017</td>\n",
       "      <td>1/15/2004</td>\n",
       "      <td>SO64042</td>\n",
       "      <td>354</td>\n",
       "      <td>11032</td>\n",
       "      <td>9</td>\n",
       "      <td>1</td>\n",
       "      <td>1</td>\n",
       "    </tr>\n",
       "    <tr>\n",
       "      <th>32818</th>\n",
       "      <td>2/12/2017</td>\n",
       "      <td>1/26/2004</td>\n",
       "      <td>SO64042</td>\n",
       "      <td>537</td>\n",
       "      <td>11032</td>\n",
       "      <td>9</td>\n",
       "      <td>2</td>\n",
       "      <td>1</td>\n",
       "    </tr>\n",
       "  </tbody>\n",
       "</table>\n",
       "</div>"
      ],
      "text/plain": [
       "       OrderDate   StockDate OrderNumber  ProductKey  CustomerKey  \\\n",
       "32812  2/12/2017   11/7/2003     SO64042         477        11032   \n",
       "32813  2/12/2017  10/16/2003     SO64042         478        11032   \n",
       "32814  2/12/2017  12/14/2003     SO64042         480        11032   \n",
       "32815  2/12/2017   11/9/2003     SO64042         485        11032   \n",
       "32816  2/12/2017   1/17/2004     SO64042         528        11032   \n",
       "32817  2/12/2017   1/15/2004     SO64042         354        11032   \n",
       "32818  2/12/2017   1/26/2004     SO64042         537        11032   \n",
       "\n",
       "       TerritoryKey  OrderLineItem  OrderQuantity  \n",
       "32812             9              6              2  \n",
       "32813             9              5              2  \n",
       "32814             9              7              2  \n",
       "32815             9              4              2  \n",
       "32816             9              3              2  \n",
       "32817             9              1              1  \n",
       "32818             9              2              1  "
      ]
     },
     "execution_count": 175,
     "metadata": {},
     "output_type": "execute_result"
    }
   ],
   "source": [
    "data_sales[data_sales[\"OrderNumber\"] == \"SO64042\"]"
   ]
  },
  {
   "cell_type": "markdown",
   "metadata": {},
   "source": [
    "- Note: In the same order “SO64042”, customer “11032” purchased 7 types of products (see column ProductKey) and each type of product will have its own purchase quantity (see column OrderQuantity)."
   ]
  },
  {
   "cell_type": "code",
   "execution_count": 176,
   "metadata": {},
   "outputs": [
    {
     "name": "stdout",
     "output_type": "stream",
     "text": [
      "Total number of orders in 3 years =  25164\n"
     ]
    }
   ],
   "source": [
    "\n",
    "total_order = len ( data_sales[\"OrderNumber\"].unique())\n",
    "print(\"Total number of orders in 3 years = \",total_order )"
   ]
  },
  {
   "cell_type": "markdown",
   "metadata": {},
   "source": [
    "# task 3.7: Which product sells best and how much gross profit comes from that product?  "
   ]
  },
  {
   "cell_type": "code",
   "execution_count": 177,
   "metadata": {},
   "outputs": [
    {
     "data": {
      "text/html": [
       "<div>\n",
       "<style scoped>\n",
       "    .dataframe tbody tr th:only-of-type {\n",
       "        vertical-align: middle;\n",
       "    }\n",
       "\n",
       "    .dataframe tbody tr th {\n",
       "        vertical-align: top;\n",
       "    }\n",
       "\n",
       "    .dataframe thead th {\n",
       "        text-align: right;\n",
       "    }\n",
       "</style>\n",
       "<table border=\"1\" class=\"dataframe\">\n",
       "  <thead>\n",
       "    <tr style=\"text-align: right;\">\n",
       "      <th></th>\n",
       "      <th>ProductKey</th>\n",
       "      <th>OrderQuantity</th>\n",
       "    </tr>\n",
       "  </thead>\n",
       "  <tbody>\n",
       "    <tr>\n",
       "      <th>61</th>\n",
       "      <td>477</td>\n",
       "      <td>7967</td>\n",
       "    </tr>\n",
       "    <tr>\n",
       "      <th>64</th>\n",
       "      <td>480</td>\n",
       "      <td>5898</td>\n",
       "    </tr>\n",
       "    <tr>\n",
       "      <th>76</th>\n",
       "      <td>528</td>\n",
       "      <td>5678</td>\n",
       "    </tr>\n",
       "    <tr>\n",
       "      <th>77</th>\n",
       "      <td>529</td>\n",
       "      <td>4327</td>\n",
       "    </tr>\n",
       "    <tr>\n",
       "      <th>3</th>\n",
       "      <td>223</td>\n",
       "      <td>4151</td>\n",
       "    </tr>\n",
       "    <tr>\n",
       "      <th>...</th>\n",
       "      <td>...</td>\n",
       "      <td>...</td>\n",
       "    </tr>\n",
       "    <tr>\n",
       "      <th>29</th>\n",
       "      <td>348</td>\n",
       "      <td>26</td>\n",
       "    </tr>\n",
       "    <tr>\n",
       "      <th>30</th>\n",
       "      <td>349</td>\n",
       "      <td>26</td>\n",
       "    </tr>\n",
       "    <tr>\n",
       "      <th>26</th>\n",
       "      <td>345</td>\n",
       "      <td>25</td>\n",
       "    </tr>\n",
       "    <tr>\n",
       "      <th>27</th>\n",
       "      <td>346</td>\n",
       "      <td>24</td>\n",
       "    </tr>\n",
       "    <tr>\n",
       "      <th>28</th>\n",
       "      <td>347</td>\n",
       "      <td>22</td>\n",
       "    </tr>\n",
       "  </tbody>\n",
       "</table>\n",
       "<p>130 rows × 2 columns</p>\n",
       "</div>"
      ],
      "text/plain": [
       "    ProductKey  OrderQuantity\n",
       "61         477           7967\n",
       "64         480           5898\n",
       "76         528           5678\n",
       "77         529           4327\n",
       "3          223           4151\n",
       "..         ...            ...\n",
       "29         348             26\n",
       "30         349             26\n",
       "26         345             25\n",
       "27         346             24\n",
       "28         347             22\n",
       "\n",
       "[130 rows x 2 columns]"
      ]
     },
     "execution_count": 177,
     "metadata": {},
     "output_type": "execute_result"
    }
   ],
   "source": [
    "group_productkey = \\\n",
    "data_sales.groupby('ProductKey').sum()[['OrderQuantity']]\n",
    "  \n",
    "group_productkey = \\\n",
    "group_productkey.reset_index().sort_values('OrderQuantity',ascending = False)\n",
    "  \n",
    "group_productkey"
   ]
  },
  {
   "cell_type": "markdown",
   "metadata": {},
   "source": [
    "- Best-selling product with code '477'\n",
    "with sales quantity: '7967'"
   ]
  },
  {
   "cell_type": "code",
   "execution_count": 178,
   "metadata": {},
   "outputs": [
    {
     "data": {
      "text/html": [
       "<div>\n",
       "<style scoped>\n",
       "    .dataframe tbody tr th:only-of-type {\n",
       "        vertical-align: middle;\n",
       "    }\n",
       "\n",
       "    .dataframe tbody tr th {\n",
       "        vertical-align: top;\n",
       "    }\n",
       "\n",
       "    .dataframe thead th {\n",
       "        text-align: right;\n",
       "    }\n",
       "</style>\n",
       "<table border=\"1\" class=\"dataframe\">\n",
       "  <thead>\n",
       "    <tr style=\"text-align: right;\">\n",
       "      <th></th>\n",
       "      <th>ProductKey</th>\n",
       "      <th>ProductName</th>\n",
       "      <th>Price</th>\n",
       "      <th>Cost</th>\n",
       "      <th>OrderQuantity</th>\n",
       "      <th>Gross profit ($)</th>\n",
       "    </tr>\n",
       "  </thead>\n",
       "  <tbody>\n",
       "    <tr>\n",
       "      <th>0</th>\n",
       "      <td>477</td>\n",
       "      <td>Water Bottle - 30 oz.</td>\n",
       "      <td>4.99</td>\n",
       "      <td>1.87</td>\n",
       "      <td>7967</td>\n",
       "      <td>24886.52</td>\n",
       "    </tr>\n",
       "    <tr>\n",
       "      <th>1</th>\n",
       "      <td>480</td>\n",
       "      <td>Patch Kit/8 Patches</td>\n",
       "      <td>2.29</td>\n",
       "      <td>0.86</td>\n",
       "      <td>5898</td>\n",
       "      <td>8454.78</td>\n",
       "    </tr>\n",
       "    <tr>\n",
       "      <th>2</th>\n",
       "      <td>528</td>\n",
       "      <td>Mountain Tire Tube</td>\n",
       "      <td>4.99</td>\n",
       "      <td>1.87</td>\n",
       "      <td>5678</td>\n",
       "      <td>17736.37</td>\n",
       "    </tr>\n",
       "    <tr>\n",
       "      <th>3</th>\n",
       "      <td>529</td>\n",
       "      <td>Road Tire Tube</td>\n",
       "      <td>3.99</td>\n",
       "      <td>1.49</td>\n",
       "      <td>4327</td>\n",
       "      <td>10807.55</td>\n",
       "    </tr>\n",
       "    <tr>\n",
       "      <th>4</th>\n",
       "      <td>223</td>\n",
       "      <td>AWC Logo Cap</td>\n",
       "      <td>8.64</td>\n",
       "      <td>5.71</td>\n",
       "      <td>4151</td>\n",
       "      <td>12199.79</td>\n",
       "    </tr>\n",
       "  </tbody>\n",
       "</table>\n",
       "</div>"
      ],
      "text/plain": [
       "   ProductKey            ProductName  Price  Cost  OrderQuantity  \\\n",
       "0         477  Water Bottle - 30 oz.   4.99  1.87           7967   \n",
       "1         480    Patch Kit/8 Patches   2.29  0.86           5898   \n",
       "2         528     Mountain Tire Tube   4.99  1.87           5678   \n",
       "3         529         Road Tire Tube   3.99  1.49           4327   \n",
       "4         223           AWC Logo Cap   8.64  5.71           4151   \n",
       "\n",
       "   Gross profit ($)  \n",
       "0          24886.52  \n",
       "1           8454.78  \n",
       "2          17736.37  \n",
       "3          10807.55  \n",
       "4          12199.79  "
      ]
     },
     "execution_count": 178,
     "metadata": {},
     "output_type": "execute_result"
    }
   ],
   "source": [
    "df_combining = pd.merge(group_productkey, df_product, on = 'ProductKey', how = 'inner')\\\n",
    "[[\"ProductKey\",\"ProductName\",\"Price\",\"Cost\",\"OrderQuantity\"]]\n",
    "\n",
    "df_combining[\"Gross profit ($)\"] = \\\n",
    "(df_combining[\"Price\"] - df_combining[\"Cost\"]) * df_combining[\"OrderQuantity\"]\n",
    "\n",
    "df_combining.head()"
   ]
  },
  {
   "cell_type": "markdown",
   "metadata": {},
   "source": [
    "# Task 3.8: Shows the correlation between sales volume and gross profit of the 15 best-selling products"
   ]
  },
  {
   "cell_type": "code",
   "execution_count": 179,
   "metadata": {},
   "outputs": [
    {
     "name": "stderr",
     "output_type": "stream",
     "text": [
      "C:\\Users\\quipm\\AppData\\Local\\Temp\\ipykernel_11496\\1649272200.py:9: UserWarning: FixedFormatter should only be used together with FixedLocator\n",
      "  ax1.set_xticklabels(x,rotation = 90)\n"
     ]
    },
    {
     "data": {
      "image/png": "[encoded data removed]",
      "text/plain": [
       "<Figure size 1200x500 with 2 Axes>"
      ]
     },
     "metadata": {},
     "output_type": "display_data"
    }
   ],
   "source": [
    "top15_sales = df_combining[:15].copy()\n",
    " \n",
    "x = top15_sales['ProductName']\n",
    "y1 = top15_sales['OrderQuantity']\n",
    "y2 = top15_sales['Gross profit ($)']\n",
    " \n",
    "fig, ax1 = plt.subplots(figsize=(12, 5))\n",
    "ax1.bar(x,y1,color = 'g')\n",
    "ax1.set_xticklabels(x,rotation = 90)\n",
    "ax1.set_ylabel('OrderQuantity')  \n",
    " \n",
    "ax2 =ax1.twinx()\n",
    "ax2.plot(x,y2, 'r-')\n",
    "ax2.set_ylabel('Gross profit ($)')\n",
    "\n",
    "plt.title('Correlation chart between sales volume and gross profit')\n",
    "plt.show()"
   ]
  },
  {
   "cell_type": "markdown",
   "metadata": {},
   "source": [
    "# Task 3.9: Which month of the year has the highest revenue and how much revenue is that month?"
   ]
  },
  {
   "cell_type": "code",
   "execution_count": 180,
   "metadata": {},
   "outputs": [
    {
     "data": {
      "text/html": [
       "<div>\n",
       "<style scoped>\n",
       "    .dataframe tbody tr th:only-of-type {\n",
       "        vertical-align: middle;\n",
       "    }\n",
       "\n",
       "    .dataframe tbody tr th {\n",
       "        vertical-align: top;\n",
       "    }\n",
       "\n",
       "    .dataframe thead th {\n",
       "        text-align: right;\n",
       "    }\n",
       "</style>\n",
       "<table border=\"1\" class=\"dataframe\">\n",
       "  <thead>\n",
       "    <tr style=\"text-align: right;\">\n",
       "      <th></th>\n",
       "      <th>ProductKey</th>\n",
       "      <th>OrderDate</th>\n",
       "      <th>Price</th>\n",
       "      <th>OrderQuantity</th>\n",
       "      <th>Month</th>\n",
       "      <th>Revenue</th>\n",
       "    </tr>\n",
       "  </thead>\n",
       "  <tbody>\n",
       "    <tr>\n",
       "      <th>0</th>\n",
       "      <td>332</td>\n",
       "      <td>2015-01-01</td>\n",
       "      <td>699.10</td>\n",
       "      <td>1</td>\n",
       "      <td>1</td>\n",
       "      <td>699.10</td>\n",
       "    </tr>\n",
       "    <tr>\n",
       "      <th>1</th>\n",
       "      <td>332</td>\n",
       "      <td>2015-02-06</td>\n",
       "      <td>699.10</td>\n",
       "      <td>1</td>\n",
       "      <td>2</td>\n",
       "      <td>699.10</td>\n",
       "    </tr>\n",
       "    <tr>\n",
       "      <th>2</th>\n",
       "      <td>332</td>\n",
       "      <td>2015-03-03</td>\n",
       "      <td>699.10</td>\n",
       "      <td>1</td>\n",
       "      <td>3</td>\n",
       "      <td>699.10</td>\n",
       "    </tr>\n",
       "    <tr>\n",
       "      <th>3</th>\n",
       "      <td>332</td>\n",
       "      <td>2015-03-26</td>\n",
       "      <td>699.10</td>\n",
       "      <td>1</td>\n",
       "      <td>3</td>\n",
       "      <td>699.10</td>\n",
       "    </tr>\n",
       "    <tr>\n",
       "      <th>4</th>\n",
       "      <td>332</td>\n",
       "      <td>2015-04-14</td>\n",
       "      <td>699.10</td>\n",
       "      <td>1</td>\n",
       "      <td>4</td>\n",
       "      <td>699.10</td>\n",
       "    </tr>\n",
       "  </tbody>\n",
       "</table>\n",
       "</div>"
      ],
      "text/plain": [
       "   ProductKey  OrderDate  Price  OrderQuantity  Month  Revenue\n",
       "0         332 2015-01-01 699.10              1      1   699.10\n",
       "1         332 2015-02-06 699.10              1      2   699.10\n",
       "2         332 2015-03-03 699.10              1      3   699.10\n",
       "3         332 2015-03-26 699.10              1      3   699.10\n",
       "4         332 2015-04-14 699.10              1      4   699.10"
      ]
     },
     "execution_count": 180,
     "metadata": {},
     "output_type": "execute_result"
    }
   ],
   "source": [
    "#combining data_sales and df_product using column 'ProductKey', in an inner join\n",
    "df_tong_hop = pd.merge(data_sales, df_product, on = 'ProductKey' , how = \"inner\")\n",
    " \n",
    "#filter out from df_tong_hop the necessary columns\n",
    "df_revenue_month = df_tong_hop[[\"ProductKey\",\"OrderDate\",\"Price\",\"OrderQuantity\"]].copy()\n",
    " \n",
    "# add columns Month\n",
    "df_revenue_month[\"OrderDate\"] = pd.to_datetime(df_revenue_month[\"OrderDate\"], format = '%m/%d/%Y')\n",
    "df_revenue_month[\"Month\"] = df_revenue_month[\"OrderDate\"].dt.month\n",
    "\n",
    "# Add a revenue column: Revenue = Price x OrderQuantity\n",
    "df_revenue_month[\"Revenue\"] = df_revenue_month[\"Price\"] * df_revenue_month[\"OrderQuantity\"]\n",
    "\n",
    "df_revenue_month.head() "
   ]
  },
  {
   "cell_type": "code",
   "execution_count": 181,
   "metadata": {},
   "outputs": [
    {
     "name": "stdout",
     "output_type": "stream",
     "text": [
      "Month\n",
      "6    3030800.79\n",
      "5    2973293.15\n",
      "4    2676135.18\n",
      "3    2563994.11\n",
      "2    2345630.33\n",
      "1    2292117.05\n",
      "12   2199070.33\n",
      "11   1460524.20\n",
      "10   1434097.65\n",
      "8    1340646.20\n",
      "7    1301471.47\n",
      "9    1296806.37\n",
      "Name: Revenue, dtype: float64\n"
     ]
    }
   ],
   "source": [
    "pd.set_option('display.float_format', '{:.2f}'.format)\n",
    "\n",
    "group_month = df_revenue_month.groupby('Month')['Revenue'].sum()\n",
    "\n",
    "# Reorder the Revenue column in descending order:\n",
    "sorted_group_month = group_month.sort_values(ascending=False)\n",
    "print(sorted_group_month)\n",
    "\n"
   ]
  },
  {
   "cell_type": "markdown",
   "metadata": {},
   "source": [
    "# Insight:\n",
    "- The month with the highest revenue is June with revenue = 3030800.79 <=> more than 3 million $ (this is the total revenue in June of 3 years 2015,2016,2017).\n",
    "\n",
    "- This data is taken from shops that sell sports bikes, mountain bikes and many accompanying accessories such as hats, socks, clothes, etc. There is a large difference in revenue between months => thus reflecting that shopping behavior depends a lot on time.\n",
    "\n",
    "- The highest revenue is from April to June, and this is also the European summer period (European summer weather is very cool, the sky turns blue, the nights are short, the days are long, the sky is just starting to get dark. around 8:00 p.m. - 9:00 p.m., so there is plenty of time to play outdoors)\n",
    "\n",
    "> Knowing this insight will greatly help business activities such as preparing goods, focusing on running advertising and promotions at the right time."
   ]
  },
  {
   "cell_type": "markdown",
   "metadata": {},
   "source": [
    "# Visualize revenue data by month"
   ]
  },
  {
   "cell_type": "code",
   "execution_count": 182,
   "metadata": {},
   "outputs": [
    {
     "data": {
      "image/png": "[encoded data removed]",
      "text/plain": [
       "<Figure size 1000x600 with 1 Axes>"
      ]
     },
     "metadata": {},
     "output_type": "display_data"
    }
   ],
   "source": [
    "plt.figure(figsize=(10, 6))  \n",
    "group_month.plot()\n",
    "\n",
    "plt.xticks(range(1, 13))\n",
    "plt.xlabel('Month')\n",
    "plt.ylabel('Revenue (in millions $)')\n",
    "plt.title('Revenue by Month')\n",
    "\n",
    "plt.grid(True)  \n",
    "plt.show()"
   ]
  },
  {
   "cell_type": "markdown",
   "metadata": {},
   "source": [
    "# Task: Revenue By year"
   ]
  },
  {
   "cell_type": "code",
   "execution_count": 183,
   "metadata": {},
   "outputs": [
    {
     "data": {
      "text/html": [
       "<div>\n",
       "<style scoped>\n",
       "    .dataframe tbody tr th:only-of-type {\n",
       "        vertical-align: middle;\n",
       "    }\n",
       "\n",
       "    .dataframe tbody tr th {\n",
       "        vertical-align: top;\n",
       "    }\n",
       "\n",
       "    .dataframe thead th {\n",
       "        text-align: right;\n",
       "    }\n",
       "</style>\n",
       "<table border=\"1\" class=\"dataframe\">\n",
       "  <thead>\n",
       "    <tr style=\"text-align: right;\">\n",
       "      <th></th>\n",
       "      <th>Year</th>\n",
       "      <th>Revenue</th>\n",
       "    </tr>\n",
       "  </thead>\n",
       "  <tbody>\n",
       "    <tr>\n",
       "      <th>0</th>\n",
       "      <td>2015</td>\n",
       "      <td>6404933.58</td>\n",
       "    </tr>\n",
       "    <tr>\n",
       "      <th>1</th>\n",
       "      <td>2016</td>\n",
       "      <td>9324203.79</td>\n",
       "    </tr>\n",
       "    <tr>\n",
       "      <th>2</th>\n",
       "      <td>2017</td>\n",
       "      <td>9185449.45</td>\n",
       "    </tr>\n",
       "  </tbody>\n",
       "</table>\n",
       "</div>"
      ],
      "text/plain": [
       "   Year    Revenue\n",
       "0  2015 6404933.58\n",
       "1  2016 9324203.79\n",
       "2  2017 9185449.45"
      ]
     },
     "execution_count": 183,
     "metadata": {},
     "output_type": "execute_result"
    }
   ],
   "source": [
    "df_tong_hop = pd.merge(data_sales, df_product, on = 'ProductKey' , how = \"inner\")\n",
    " \n",
    "df_revenue_year = df_tong_hop[[\"ProductKey\",\"OrderDate\",\"Price\",\"OrderQuantity\"]].copy()\n",
    "df_revenue_year['OrderDate'] = pd.to_datetime(df_revenue_month['OrderDate'], format='%m/%d/%Y')\n",
    "\n",
    "df_revenue_year['Year'] = df_revenue_month['OrderDate'].dt.year\n",
    "\n",
    "df_revenue_year['Revenue'] = df_revenue_year['Price'] * df_revenue_year['OrderQuantity']\n",
    "\n",
    "df_revenue_year = df_revenue_year.groupby('Year')['Revenue'].sum().reset_index()\n",
    "df_revenue_year.head()"
   ]
  },
  {
   "cell_type": "code",
   "execution_count": 184,
   "metadata": {},
   "outputs": [
    {
     "data": {
      "image/png": "[encoded data removed]",
      "text/plain": [
       "<Figure size 600x600 with 1 Axes>"
      ]
     },
     "metadata": {},
     "output_type": "display_data"
    }
   ],
   "source": [
    "plt.figure(figsize=(6, 6))\n",
    "plt.pie(df_revenue_year['Revenue'], labels=df_revenue_year['Year'], autopct='%1.1f%%', startangle=140)\n",
    "plt.title('Revenue by years')\n",
    "plt.show()"
   ]
  },
  {
   "cell_type": "markdown",
   "metadata": {},
   "source": [
    "# Task 3.10: Find out those customers who only made one-time purchases and did not return to make purchases in 3 years 2015, 2016, 2017. Then extract their email to send promotion information."
   ]
  },
  {
   "cell_type": "code",
   "execution_count": 185,
   "metadata": {},
   "outputs": [
    {
     "data": {
      "text/html": [
       "<div>\n",
       "<style scoped>\n",
       "    .dataframe tbody tr th:only-of-type {\n",
       "        vertical-align: middle;\n",
       "    }\n",
       "\n",
       "    .dataframe tbody tr th {\n",
       "        vertical-align: top;\n",
       "    }\n",
       "\n",
       "    .dataframe thead th {\n",
       "        text-align: right;\n",
       "    }\n",
       "</style>\n",
       "<table border=\"1\" class=\"dataframe\">\n",
       "  <thead>\n",
       "    <tr style=\"text-align: right;\">\n",
       "      <th></th>\n",
       "      <th>CustomerKey</th>\n",
       "      <th>Full_name</th>\n",
       "      <th>EmailAddress</th>\n",
       "      <th>AnnualIncome</th>\n",
       "      <th>IncomeLevel</th>\n",
       "    </tr>\n",
       "  </thead>\n",
       "  <tbody>\n",
       "    <tr>\n",
       "      <th>12</th>\n",
       "      <td>11013</td>\n",
       "      <td>MR. IAN JENKINS</td>\n",
       "      <td>ian47@adventure-works.com</td>\n",
       "      <td>100000.00</td>\n",
       "      <td>High</td>\n",
       "    </tr>\n",
       "    <tr>\n",
       "      <th>14</th>\n",
       "      <td>11015</td>\n",
       "      <td>MS. CHLOE YOUNG</td>\n",
       "      <td>chloe23@adventure-works.com</td>\n",
       "      <td>30000.00</td>\n",
       "      <td>Low</td>\n",
       "    </tr>\n",
       "    <tr>\n",
       "      <th>15</th>\n",
       "      <td>11016</td>\n",
       "      <td>MR. WYATT HILL</td>\n",
       "      <td>wyatt32@adventure-works.com</td>\n",
       "      <td>30000.00</td>\n",
       "      <td>Low</td>\n",
       "    </tr>\n",
       "    <tr>\n",
       "      <th>19</th>\n",
       "      <td>11020</td>\n",
       "      <td>MR. JORDAN KING</td>\n",
       "      <td>jordan73@adventure-works.com</td>\n",
       "      <td>40000.00</td>\n",
       "      <td>Low</td>\n",
       "    </tr>\n",
       "    <tr>\n",
       "      <th>20</th>\n",
       "      <td>11021</td>\n",
       "      <td>MS. DESTINY WILSON</td>\n",
       "      <td>destiny7@adventure-works.com</td>\n",
       "      <td>40000.00</td>\n",
       "      <td>Low</td>\n",
       "    </tr>\n",
       "    <tr>\n",
       "      <th>...</th>\n",
       "      <td>...</td>\n",
       "      <td>...</td>\n",
       "      <td>...</td>\n",
       "      <td>...</td>\n",
       "      <td>...</td>\n",
       "    </tr>\n",
       "    <tr>\n",
       "      <th>18143</th>\n",
       "      <td>29479</td>\n",
       "      <td>MR. TOMMY TANG</td>\n",
       "      <td>tommy2@adventure-works.com</td>\n",
       "      <td>30000.00</td>\n",
       "      <td>Low</td>\n",
       "    </tr>\n",
       "    <tr>\n",
       "      <th>18144</th>\n",
       "      <td>29480</td>\n",
       "      <td>MRS. NINA RAJI</td>\n",
       "      <td>nina21@adventure-works.com</td>\n",
       "      <td>30000.00</td>\n",
       "      <td>Low</td>\n",
       "    </tr>\n",
       "    <tr>\n",
       "      <th>18145</th>\n",
       "      <td>29481</td>\n",
       "      <td>MR. IVAN SURI</td>\n",
       "      <td>ivan0@adventure-works.com</td>\n",
       "      <td>30000.00</td>\n",
       "      <td>Low</td>\n",
       "    </tr>\n",
       "    <tr>\n",
       "      <th>18146</th>\n",
       "      <td>29482</td>\n",
       "      <td>MR. CLAYTON ZHANG</td>\n",
       "      <td>clayton0@adventure-works.com</td>\n",
       "      <td>30000.00</td>\n",
       "      <td>Low</td>\n",
       "    </tr>\n",
       "    <tr>\n",
       "      <th>18147</th>\n",
       "      <td>29483</td>\n",
       "      <td>MR. JÉSUS NAVARRO</td>\n",
       "      <td>jésus9@adventure-works.com</td>\n",
       "      <td>30000.00</td>\n",
       "      <td>Low</td>\n",
       "    </tr>\n",
       "  </tbody>\n",
       "</table>\n",
       "<p>11559 rows × 5 columns</p>\n",
       "</div>"
      ],
      "text/plain": [
       "       CustomerKey           Full_name                  EmailAddress  \\\n",
       "12           11013     MR. IAN JENKINS     ian47@adventure-works.com   \n",
       "14           11015     MS. CHLOE YOUNG   chloe23@adventure-works.com   \n",
       "15           11016      MR. WYATT HILL   wyatt32@adventure-works.com   \n",
       "19           11020     MR. JORDAN KING  jordan73@adventure-works.com   \n",
       "20           11021  MS. DESTINY WILSON  destiny7@adventure-works.com   \n",
       "...            ...                 ...                           ...   \n",
       "18143        29479      MR. TOMMY TANG    tommy2@adventure-works.com   \n",
       "18144        29480      MRS. NINA RAJI    nina21@adventure-works.com   \n",
       "18145        29481       MR. IVAN SURI     ivan0@adventure-works.com   \n",
       "18146        29482   MR. CLAYTON ZHANG  clayton0@adventure-works.com   \n",
       "18147        29483   MR. JÉSUS NAVARRO    jésus9@adventure-works.com   \n",
       "\n",
       "       AnnualIncome IncomeLevel  \n",
       "12        100000.00        High  \n",
       "14         30000.00         Low  \n",
       "15         30000.00         Low  \n",
       "19         40000.00         Low  \n",
       "20         40000.00         Low  \n",
       "...             ...         ...  \n",
       "18143      30000.00         Low  \n",
       "18144      30000.00         Low  \n",
       "18145      30000.00         Low  \n",
       "18146      30000.00         Low  \n",
       "18147      30000.00         Low  \n",
       "\n",
       "[11559 rows x 5 columns]"
      ]
     },
     "execution_count": 185,
     "metadata": {},
     "output_type": "execute_result"
    }
   ],
   "source": [
    "#filter data_sales by only getting rows with 'OrderLineItem' = 1:\n",
    "df_temp = data_sales[data_sales['OrderLineItem'] == 1]\n",
    " \n",
    "#next groupby and count normally:\n",
    "df_temp = df_temp.groupby('CustomerKey').count()[['OrderNumber']]\n",
    "df_temp = df_temp[df_temp['OrderNumber'] == 1]\n",
    " \n",
    "# save the satisfied CustomerKey into a list\n",
    "list_cus = list(df_temp.index)\n",
    " \n",
    "#look up customer information using list_cus\n",
    "df_result = df_customers[df_customers['CustomerKey'].isin(list_cus)]\n",
    " \n",
    "# list of customers who only buy once\n",
    "df_result[[\"CustomerKey\",\"Full_name\",\"EmailAddress\",\"AnnualIncome\",\"IncomeLevel\"]]"
   ]
  },
  {
   "cell_type": "markdown",
   "metadata": {},
   "source": [
    "Once we have information about customers who only buy once and do not return, the company can deploy customer care activities to the right customers to improve the RPR index (Repeat Purchase Rate)."
   ]
  },
  {
   "cell_type": "markdown",
   "metadata": {},
   "source": [
    "# Task 3.11: Look for products that are often bought together"
   ]
  },
  {
   "cell_type": "code",
   "execution_count": 186,
   "metadata": {},
   "outputs": [
    {
     "data": {
      "text/plain": [
       "all_product\n",
       "Water Bottle - 30 oz., Mountain Bottle Cage                  188\n",
       "Mountain Tire Tube, Patch Kit/8 Patches                      178\n",
       "LL Road Tire, Patch Kit/8 Patches                            128\n",
       "Mountain Tire Tube, HL Mountain Tire, Patch Kit/8 Patches    123\n",
       "Touring Tire Tube, Patch Kit/8 Patches                       123\n",
       "Road Tire Tube, Patch Kit/8 Patches                          122\n",
       "Mountain Tire Tube, ML Mountain Tire, Patch Kit/8 Patches    118\n",
       "Patch Kit/8 Patches, LL Mountain Tire                        116\n",
       "ML Mountain Tire, Patch Kit/8 Patches                        114\n",
       "Touring Tire, Touring Tire Tube, Patch Kit/8 Patches         109\n",
       "Name: count, dtype: int64"
      ]
     },
     "execution_count": 186,
     "metadata": {},
     "output_type": "execute_result"
    }
   ],
   "source": [
    "df_tong_hop = pd.merge(data_sales, df_product, on = 'ProductKey', how = 'inner')[['OrderNumber','ProductName']]\n",
    "\n",
    "filter_dup = df_tong_hop[df_tong_hop['OrderNumber'].duplicated(keep = False)].copy()\n",
    "concate_str = lambda x: ', '.join(x)\n",
    "\n",
    "filter_dup['all_product'] = filter_dup.groupby('OrderNumber')['ProductName'].transform(concate_str)\n",
    "filter_dup = filter_dup[[\"OrderNumber\",\"all_product\"]].drop_duplicates()\n",
    "filter_dup['all_product'].value_counts()[:10]"
   ]
  },
  {
   "cell_type": "code",
   "execution_count": 213,
   "metadata": {},
   "outputs": [
    {
     "data": {
      "text/html": [
       "<div>\n",
       "<style scoped>\n",
       "    .dataframe tbody tr th:only-of-type {\n",
       "        vertical-align: middle;\n",
       "    }\n",
       "\n",
       "    .dataframe tbody tr th {\n",
       "        vertical-align: top;\n",
       "    }\n",
       "\n",
       "    .dataframe thead th {\n",
       "        text-align: right;\n",
       "    }\n",
       "</style>\n",
       "<table border=\"1\" class=\"dataframe\">\n",
       "  <thead>\n",
       "    <tr style=\"text-align: right;\">\n",
       "      <th></th>\n",
       "      <th>OrderDate</th>\n",
       "      <th>StockDate</th>\n",
       "      <th>OrderNumber</th>\n",
       "      <th>ProductKey</th>\n",
       "      <th>CustomerKey</th>\n",
       "      <th>TerritoryKey</th>\n",
       "      <th>OrderLineItem</th>\n",
       "      <th>OrderQuantity</th>\n",
       "      <th>SubcategoryKey</th>\n",
       "      <th>SKU</th>\n",
       "      <th>...</th>\n",
       "      <th>Size</th>\n",
       "      <th>Style</th>\n",
       "      <th>Cost</th>\n",
       "      <th>Price</th>\n",
       "      <th>SKU_type1</th>\n",
       "      <th>SKU_type2</th>\n",
       "      <th>GPM %</th>\n",
       "      <th>ratio_markup %</th>\n",
       "      <th>Discount</th>\n",
       "      <th>Revenue</th>\n",
       "    </tr>\n",
       "  </thead>\n",
       "  <tbody>\n",
       "    <tr>\n",
       "      <th>0</th>\n",
       "      <td>1/1/2017</td>\n",
       "      <td>12/13/2003</td>\n",
       "      <td>SO61285</td>\n",
       "      <td>529</td>\n",
       "      <td>23791</td>\n",
       "      <td>1</td>\n",
       "      <td>2</td>\n",
       "      <td>2</td>\n",
       "      <td>37</td>\n",
       "      <td>TT-R982</td>\n",
       "      <td>...</td>\n",
       "      <td>0</td>\n",
       "      <td>0</td>\n",
       "      <td>1.49</td>\n",
       "      <td>3.99</td>\n",
       "      <td>TT</td>\n",
       "      <td>NA</td>\n",
       "      <td>62.60</td>\n",
       "      <td>167.37</td>\n",
       "      <td>3.39</td>\n",
       "      <td>7.98</td>\n",
       "    </tr>\n",
       "    <tr>\n",
       "      <th>1</th>\n",
       "      <td>1/1/2017</td>\n",
       "      <td>9/24/2003</td>\n",
       "      <td>SO61285</td>\n",
       "      <td>214</td>\n",
       "      <td>23791</td>\n",
       "      <td>1</td>\n",
       "      <td>3</td>\n",
       "      <td>1</td>\n",
       "      <td>31</td>\n",
       "      <td>HL-U509-R</td>\n",
       "      <td>...</td>\n",
       "      <td>0</td>\n",
       "      <td>0</td>\n",
       "      <td>13.09</td>\n",
       "      <td>34.99</td>\n",
       "      <td>HL</td>\n",
       "      <td>R</td>\n",
       "      <td>62.60</td>\n",
       "      <td>167.38</td>\n",
       "      <td>29.74</td>\n",
       "      <td>34.99</td>\n",
       "    </tr>\n",
       "    <tr>\n",
       "      <th>2</th>\n",
       "      <td>1/1/2017</td>\n",
       "      <td>9/4/2003</td>\n",
       "      <td>SO61285</td>\n",
       "      <td>540</td>\n",
       "      <td>23791</td>\n",
       "      <td>1</td>\n",
       "      <td>1</td>\n",
       "      <td>1</td>\n",
       "      <td>37</td>\n",
       "      <td>TI-R982</td>\n",
       "      <td>...</td>\n",
       "      <td>0</td>\n",
       "      <td>0</td>\n",
       "      <td>12.19</td>\n",
       "      <td>32.60</td>\n",
       "      <td>TI</td>\n",
       "      <td>NA</td>\n",
       "      <td>62.60</td>\n",
       "      <td>167.38</td>\n",
       "      <td>27.71</td>\n",
       "      <td>32.60</td>\n",
       "    </tr>\n",
       "    <tr>\n",
       "      <th>3</th>\n",
       "      <td>1/1/2017</td>\n",
       "      <td>9/28/2003</td>\n",
       "      <td>SO61301</td>\n",
       "      <td>529</td>\n",
       "      <td>16747</td>\n",
       "      <td>1</td>\n",
       "      <td>2</td>\n",
       "      <td>2</td>\n",
       "      <td>37</td>\n",
       "      <td>TT-R982</td>\n",
       "      <td>...</td>\n",
       "      <td>0</td>\n",
       "      <td>0</td>\n",
       "      <td>1.49</td>\n",
       "      <td>3.99</td>\n",
       "      <td>TT</td>\n",
       "      <td>NA</td>\n",
       "      <td>62.60</td>\n",
       "      <td>167.37</td>\n",
       "      <td>3.39</td>\n",
       "      <td>7.98</td>\n",
       "    </tr>\n",
       "    <tr>\n",
       "      <th>4</th>\n",
       "      <td>1/1/2017</td>\n",
       "      <td>10/21/2003</td>\n",
       "      <td>SO61301</td>\n",
       "      <td>377</td>\n",
       "      <td>16747</td>\n",
       "      <td>1</td>\n",
       "      <td>1</td>\n",
       "      <td>1</td>\n",
       "      <td>2</td>\n",
       "      <td>BK-R89B-52</td>\n",
       "      <td>...</td>\n",
       "      <td>52</td>\n",
       "      <td>U</td>\n",
       "      <td>1320.68</td>\n",
       "      <td>2181.56</td>\n",
       "      <td>BK</td>\n",
       "      <td>52</td>\n",
       "      <td>39.46</td>\n",
       "      <td>65.18</td>\n",
       "      <td>1854.33</td>\n",
       "      <td>2181.56</td>\n",
       "    </tr>\n",
       "  </tbody>\n",
       "</table>\n",
       "<p>5 rows × 24 columns</p>\n",
       "</div>"
      ],
      "text/plain": [
       "  OrderDate   StockDate OrderNumber  ProductKey  CustomerKey  TerritoryKey  \\\n",
       "0  1/1/2017  12/13/2003     SO61285         529        23791             1   \n",
       "1  1/1/2017   9/24/2003     SO61285         214        23791             1   \n",
       "2  1/1/2017    9/4/2003     SO61285         540        23791             1   \n",
       "3  1/1/2017   9/28/2003     SO61301         529        16747             1   \n",
       "4  1/1/2017  10/21/2003     SO61301         377        16747             1   \n",
       "\n",
       "   OrderLineItem  OrderQuantity  SubcategoryKey         SKU  ... Size Style  \\\n",
       "0              2              2              37     TT-R982  ...    0     0   \n",
       "1              3              1              31   HL-U509-R  ...    0     0   \n",
       "2              1              1              37     TI-R982  ...    0     0   \n",
       "3              2              2              37     TT-R982  ...    0     0   \n",
       "4              1              1               2  BK-R89B-52  ...   52     U   \n",
       "\n",
       "     Cost   Price SKU_type1 SKU_type2  GPM %  ratio_markup % Discount Revenue  \n",
       "0    1.49    3.99        TT        NA  62.60          167.37     3.39    7.98  \n",
       "1   13.09   34.99        HL         R  62.60          167.38    29.74   34.99  \n",
       "2   12.19   32.60        TI        NA  62.60          167.38    27.71   32.60  \n",
       "3    1.49    3.99        TT        NA  62.60          167.37     3.39    7.98  \n",
       "4 1320.68 2181.56        BK        52  39.46           65.18  1854.33 2181.56  \n",
       "\n",
       "[5 rows x 24 columns]"
      ]
     },
     "execution_count": 213,
     "metadata": {},
     "output_type": "execute_result"
    }
   ],
   "source": [
    "df = df_2017.merge(df_product, on='ProductKey', how='left')\n",
    "df['Revenue'] = df['Price'] * df['OrderQuantity']\n",
    "\n",
    "df.head()"
   ]
  },
  {
   "cell_type": "code",
   "execution_count": 220,
   "metadata": {},
   "outputs": [
    {
     "name": "stdout",
     "output_type": "stream",
     "text": [
      "      CustomerKey  Revenue\n",
      "235         11420  6801.96\n",
      "233         11417  6180.38\n",
      "242         11429  6135.52\n",
      "239         11425  6035.00\n",
      "143         11242  5606.56\n",
      "142         11241  5022.99\n",
      "1930        14185  4752.66\n",
      "2880        15566  4724.45\n",
      "3096        15846  4704.36\n",
      "145         11245  4689.55\n",
      "1841        14031  4682.67\n",
      "3125        15905  4681.42\n",
      "1939        14200  4677.57\n",
      "3928        17221  4676.29\n",
      "1936        14192  4674.55\n"
     ]
    }
   ],
   "source": [
    "customer_revenue = df.groupby('CustomerKey')['Revenue'].sum().reset_index()\n",
    "\n",
    "customer_revenue_sorted = customer_revenue.sort_values(by='Revenue', ascending=False)\n",
    "\n",
    "top_15_customers = customer_revenue_sorted.head(15)\n",
    "\n",
    "print(top_15_customers)"
   ]
  }
 ],
 "metadata": {
  "kernelspec": {
   "display_name": "Python 3",
   "language": "python",
   "name": "python3"
  },
  "language_info": {
   "codemirror_mode": {
    "name": "ipython",
    "version": 3
   },
   "file_extension": ".py",
   "mimetype": "text/x-python",
   "name": "python",
   "nbconvert_exporter": "python",
   "pygments_lexer": "ipython3",
   "version": "3.11.6"
  },
  "orig_nbformat": 4
 },
 "nbformat": 4,
 "nbformat_minor": 2
}
